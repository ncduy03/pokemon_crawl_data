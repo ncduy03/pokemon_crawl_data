{
 "cells": [
  {
   "cell_type": "code",
   "execution_count": 39,
   "metadata": {},
   "outputs": [],
   "source": [
    "from bs4 import BeautifulSoup\n",
    "import requests\n",
    "import pandas as pd"
   ]
  },
  {
   "cell_type": "code",
   "execution_count": 40,
   "metadata": {},
   "outputs": [],
   "source": [
    "data = []"
   ]
  },
  {
   "cell_type": "code",
   "execution_count": 43,
   "metadata": {},
   "outputs": [],
   "source": [
    "def crawl_data():\n",
    "    list1 = soup.find(\"ul\", class_ = \"products columns-4\")\n",
    "    list2 = list1.find_all(\"a\", class_ = \"woocommerce-LoopProduct-link woocommerce-loop-product__link\")\n",
    "    \n",
    "    for i in list2:\n",
    "        href = i.get('href')\n",
    "        title = i.find('h2', class_='woocommerce-loop-product__title').text\n",
    "        image = i.find('img').get('src')\n",
    "        price = i.find('span', class_='price').text.strip()\n",
    "        data.append({'href': href, 'title': title, 'image': image, 'price': price})"
   ]
  },
  {
   "cell_type": "code",
   "execution_count": 44,
   "metadata": {},
   "outputs": [],
   "source": [
    "base_url = \"https://scrapeme.live/shop/page/\"\n",
    "page_number = 1\n",
    "while True:\n",
    "    url = base_url + str(page_number)\n",
    "    response = requests.get(url)\n",
    "    if response.status_code != 200:\n",
    "        break\n",
    "    soup = BeautifulSoup(response.text, 'html.parser')\n",
    "    \n",
    "    crawl_data()\n",
    "    \n",
    "    page_number += 1"
   ]
  },
  {
   "cell_type": "code",
   "execution_count": 45,
   "metadata": {},
   "outputs": [],
   "source": [
    "df = pd.DataFrame(data)"
   ]
  },
  {
   "cell_type": "code",
   "execution_count": 46,
   "metadata": {},
   "outputs": [],
   "source": [
    "df.to_csv('pokemon.csv', index=False)"
   ]
  }
 ],
 "metadata": {
  "kernelspec": {
   "display_name": "Python 3",
   "language": "python",
   "name": "python3"
  },
  "language_info": {
   "name": "python",
   "version": "3.11.3"
  }
 },
 "nbformat": 4,
 "nbformat_minor": 2
}
